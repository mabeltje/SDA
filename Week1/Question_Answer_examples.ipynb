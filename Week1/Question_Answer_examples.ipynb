{
 "cells": [
  {
   "cell_type": "markdown",
   "id": "03bbab80",
   "metadata": {},
   "source": [
    "# Introduction"
   ]
  },
  {
   "cell_type": "markdown",
   "id": "1208af8e",
   "metadata": {},
   "source": [
    "The following documented is meant to show the kind of questions you are going to find in your assignments and how they should be answered. You will find some questions from a previous year first assignment, regarding pseudo-random numbers.\n",
    "Assignments will be in the form of python notebooks such as Jupyter Notebook. They will require, beside statistical knowledge, a basic understanding of programming and of the python language. An easy way to set up your Python version, manage packages, etc.. is to download the  [Anaconda distribution](https://www.anaconda.com/products/individual)(click to open). Jupyter notebooks can be found there too.\n",
    "    \n",
    "Here you will find pieces of text giving some context and a question building up on that, similarly to what you will find in your assignments. In this case you are also provided answers so that you can understand what makes an answer well enough, redundantly or partly answered. When answers are in form of  pieces of codes, you are generally meant to write your own code unless explicitly indicated that you may use some library such as numpy, pandas, etc.. . As a general indication to answer the questions, try to include the minimal correct content needed to precisely answer what you are asked, as more exhaustive answers can be both time consuming and redundant for your grade.\n",
    "\n",
    "Also for the first time you have to implement a given function, say to compute the mean of a list of samples, you are required to write your own code for the first use of such a function. After the first use you are allowed to use a built-in function, packages, etc..."
   ]
  },
  {
   "cell_type": "markdown",
   "id": "b71c9f72",
   "metadata": {},
   "source": [
    "# Questions"
   ]
  },
  {
   "cell_type": "markdown",
   "id": "8e566e55",
   "metadata": {
    "ExecuteTime": {
     "end_time": "2021-10-27T12:39:20.799355Z",
     "start_time": "2021-10-27T12:39:20.792919Z"
    }
   },
   "source": [
    "\\subsection{Question 1}"
   ]
  },
  {
   "cell_type": "markdown",
   "id": "cf0ebf9f",
   "metadata": {},
   "source": [
    "\n",
    "\n",
    " \n",
    "\n",
    "\\textbf{Text}: Before we can generate 'random' datasets we need to have a random number generator (RNG). This is a very crucial piece of underlying technology that you will rely on very often, both for data analysis as well as for modeling and simulation. It is important to have a basic understanding of how a computer generates random numbers. It can never generate perfectly random numbers; all hardware inside a computer or laptop is completely deterministic.\n",
    "However there are algorithms to get as close as possible. \n",
    "\n",
    "To help you get a feel for what a computer does 'under the hood' you will now program your own random number generator and test that it works as expected.Computers generate the next 'random' integer number based on a calculation on the previously generated integer number. Simply put, computers should do this as 'chaotically' as possible, i.e., a small change of the previous number should make a potentially big difference in the next number being generated. Also, the entire range of numbers should be eventually covered with equal frequency.\n",
    "\n",
    "Make a function randint(a, c, m) which returns a new random integer in the range 0,...,$2^{32}−1$ every time you call it. Make use of one global variable seed and make sure that your function can change its value. The easiest technique is the [Linear Congruential generator](https://www.wikiwand.com/en/Linear_congruential_generator) but you may also try a different technique (in which case the arguments to the function may be different). Find suitable parameter values for a,c,m online. If they fail your validation test (below) then choose different values."
   ]
  },
  {
   "cell_type": "markdown",
   "id": "059fe52c",
   "metadata": {},
   "source": [
    "\\textbf{Answer} "
   ]
  },
  {
   "cell_type": "code",
   "execution_count": 1,
   "id": "a3e3a4d7",
   "metadata": {
    "ExecuteTime": {
     "end_time": "2021-11-01T11:18:29.674068Z",
     "start_time": "2021-11-01T11:18:29.659112Z"
    }
   },
   "outputs": [],
   "source": [
    "seed = 160\n",
    "\n",
    "def randint(a=1664525, c=1013904223, m=2**32):\n",
    "    global seed\n",
    "    seed=(a*seed+c)%m\n",
    "    return(seed)"
   ]
  },
  {
   "cell_type": "markdown",
   "id": "800834df",
   "metadata": {},
   "source": [
    "\\textbf{Comments}: The question asks for a piece of code that does the job, so noadditional information about the underlying mathematics involved is needed. Sometimes the text includes some links to some external knowledge source or some hints helping you answer."
   ]
  },
  {
   "cell_type": "markdown",
   "id": "8a67caae",
   "metadata": {},
   "source": [
    "## Question 2"
   ]
  },
  {
   "cell_type": "markdown",
   "id": "0ce69fe6",
   "metadata": {},
   "source": [
    "\\textbf{Text}: Make a function rand() which returns a new random real number (float) in the range [0,1) every time you call it.\n"
   ]
  },
  {
   "cell_type": "markdown",
   "id": "9accc964",
   "metadata": {
    "ExecuteTime": {
     "end_time": "2021-10-27T10:22:47.835461Z",
     "start_time": "2021-10-27T10:22:47.827784Z"
    }
   },
   "source": [
    "\\textbf{Answer} "
   ]
  },
  {
   "cell_type": "code",
   "execution_count": 2,
   "id": "ca0156a9",
   "metadata": {
    "ExecuteTime": {
     "end_time": "2021-11-01T11:18:31.972379Z",
     "start_time": "2021-11-01T11:18:31.967989Z"
    }
   },
   "outputs": [],
   "source": [
    "def randfloat():\n",
    "    random_integer=randint()\n",
    "    return (random_integer/2**32)"
   ]
  },
  {
   "cell_type": "markdown",
   "id": "848b0c11",
   "metadata": {},
   "source": [
    "\\textbf{Comments}: Comments: A denominator different than $2^{32}$ would result in a covered range different than [0,1] and would make the answer incorrect."
   ]
  },
  {
   "cell_type": "markdown",
   "id": "3074bca7",
   "metadata": {},
   "source": [
    "## Question 3"
   ]
  },
  {
   "cell_type": "markdown",
   "id": "fe25f85f",
   "metadata": {},
   "source": [
    "\\textbf{Text}   Test whether your RNG works properly. Make a histogram of  $n=10^6$  random real numbers and using  $k=50$  bins. Label your axes and give the figure a brief but explanatory caption. Show the histogram and make sure that the deviations of bin heights are visible.\n",
    "\n",
    "Note : Import the matplotlib.pyplot package by executing import matplotlib.pyplot as plt and then use its plt.hist(data, numbins) function."
   ]
  },
  {
   "cell_type": "markdown",
   "id": "55aea0a7",
   "metadata": {},
   "source": [
    "\\textbf{Answer}"
   ]
  },
  {
   "cell_type": "code",
   "execution_count": 3,
   "id": "9a51e50e",
   "metadata": {
    "ExecuteTime": {
     "end_time": "2021-11-01T11:18:37.152463Z",
     "start_time": "2021-11-01T11:18:33.599923Z"
    }
   },
   "outputs": [
    {
     "data": {
      "image/png": "[encoded data removed]",
      "text/plain": [
       "<Figure size 576x576 with 1 Axes>"
      ]
     },
     "metadata": {
      "needs_background": "light"
     },
     "output_type": "display_data"
    }
   ],
   "source": [
    "import matplotlib.pyplot as plt\n",
    "\n",
    "seed, k, n = 160, 50, 10**6\n",
    "sample= [randfloat() for i in range(n)]\n",
    "figure=plt.figure(figsize=(8,8))\n",
    "plt.xlabel('pseudo-random numbers ', fontsize=15)\n",
    "plt.ylabel('empirical bin frequencies', fontsize=15)\n",
    "plt.figtext(0.,0, 'performance of a pseudo-random number generator for numbers in [0,1]', fontsize=15)\n",
    "plt.hist(sample, k)\n",
    "plt.show()"
   ]
  },
  {
   "cell_type": "markdown",
   "id": "d4a1b165",
   "metadata": {},
   "source": [
    "\\textbf{Comments}: If the plot lacks axis labels or the explanatory caption it would be considered an incomplete answer, since these were explicitly asked."
   ]
  },
  {
   "cell_type": "markdown",
   "id": "fb815358",
   "metadata": {},
   "source": [
    "# Question 4"
   ]
  },
  {
   "cell_type": "markdown",
   "id": "79ab9843",
   "metadata": {},
   "source": [
    "\\textbf{Text}: For any given  $n$  and  $k$ we expect that the bin height of each individual bin follows one and the same particular type of distribution, assuming that your RNG is indeed truly uniformly distributed. Please provide the name this probability distribution for an individual bin height and specify its parameters in terms of  $n$ and  $k$.\n",
    "\n",
    "Hint: the uniform distribution of the RNG does not imply a uniform distribution of a bin's height."
   ]
  },
  {
   "cell_type": "markdown",
   "id": "01076145",
   "metadata": {},
   "source": [
    "\\textbf{Answer}:  "
   ]
  },
  {
   "cell_type": "markdown",
   "id": "2c2c99b3",
   "metadata": {},
   "source": [
    "The probability distribution for the height of each bin is a binomial distribution $B(n,p)$, with parameters: \n",
    "\n",
    "-n = number of trials = $10^6$; \n",
    "\n",
    "-p = probability of success = $\\frac{1}{k}$ = $\\frac{1}{50}$"
   ]
  },
  {
   "cell_type": "markdown",
   "id": "b569a64d",
   "metadata": {},
   "source": [
    "\n",
    "\\textbf{Comments}: The answer gives exactly what is asked for: the name of the distribution and how its parameters are defined in terms of $n$ and $k$, nothing more nothing less. For instance writing down the functional form of the binomial distribution would be not wrong, but unnecessary. Explaining why this is the correct distribution (a series of repeated Bernoulli trials, for which a combinatorial factor is to be considered) would be correct but redundant as well. "
   ]
  },
  {
   "cell_type": "markdown",
   "id": "d2e3fcb0",
   "metadata": {},
   "source": [
    "# \\textbf{Question 5}"
   ]
  },
  {
   "cell_type": "markdown",
   "id": "521d4e0d",
   "metadata": {},
   "source": [
    "\\textbf{Text}: What is the expected mean and the standard deviation for each bin's height that corresponds with this theoretical distribution? Specify the two analytical expressions.\n",
    "\n"
   ]
  },
  {
   "cell_type": "markdown",
   "id": "7f9261c9",
   "metadata": {},
   "source": [
    "\\textbf{Answer}: "
   ]
  },
  {
   "cell_type": "markdown",
   "id": "f9ac5c3f",
   "metadata": {},
   "source": [
    "The mean of the distribution is : $n p= \\frac{10^6}{50}=2* 10^4$\n",
    "\n",
    "The standard deviation is : $ \\sqrt{np(1-p)}=140$"
   ]
  },
  {
   "cell_type": "markdown",
   "id": "eceec0c3",
   "metadata": {
    "ExecuteTime": {
     "end_time": "2021-10-27T12:32:35.640240Z",
     "start_time": "2021-10-27T12:32:35.632519Z"
    }
   },
   "source": [
    "\\textbf{Comments}: Showing the explicit computations is not answered, only the correct expressions and numbers are required."
   ]
  },
  {
   "cell_type": "markdown",
   "id": "1eca470b",
   "metadata": {
    "ExecuteTime": {
     "end_time": "2021-10-27T12:33:35.523041Z",
     "start_time": "2021-10-27T12:33:35.518622Z"
    }
   },
   "source": [
    "# \\textbf{Question 6}"
   ]
  },
  {
   "cell_type": "markdown",
   "id": "2194190e",
   "metadata": {},
   "source": [
    "\\textbf{Text}: Use the return values from the histogram function you used to obtain the list of bin heights in the figure. Are these (experimentally obtained) mean and standard deviation indeed 'close' (let's say it deviates no more than  20\\% ) to our theoretical predictions?\n",
    "\n",
    "Note: Don't confuse this with a statistical notion of closeness to the parameter, or with a confidence level. These notions will be introduced later. Instead, in this question you should determine whether or not the estimates are more than  20\\%  larger than or smaller than the theoretical values."
   ]
  },
  {
   "cell_type": "markdown",
   "id": "5f81573c",
   "metadata": {},
   "source": [
    "\\textbf{Answer} "
   ]
  },
  {
   "cell_type": "code",
   "execution_count": 6,
   "id": "a06eda00",
   "metadata": {
    "ExecuteTime": {
     "end_time": "2021-11-01T11:19:49.315911Z",
     "start_time": "2021-11-01T11:19:46.411216Z"
    }
   },
   "outputs": [
    {
     "name": "stdout",
     "output_type": "stream",
     "text": [
      "theoretical mean 20000.0; empirical mean 20000.0; percentage difference 0.0 %\n",
      "theoretical std dv 140.0; empirical std dv 140.96964212198313; percentage difference 0.6926015157022343 %\n",
      "Both the empirical mean and standard deviations are within  a 20 % error from the theoretical values\n"
     ]
    }
   ],
   "source": [
    "def my_mean(samples):\n",
    "    #estimate the mean of a sample\n",
    "    s=0\n",
    "    for i in range(len(samples)):\n",
    "        s+=samples[i]\n",
    "    return(s/len(samples))\n",
    "\n",
    "def my_std_dv(samples):\n",
    "    #estimate the standard deviation of a sample\n",
    "    mean=my_mean(samples)\n",
    "    s=0\n",
    "    for i in range(len(samples)):\n",
    "        s+=(samples[i]-mean)**2\n",
    "    return((s/len(samples))**0.5)\n",
    "\n",
    "def percentage_deviation(a,b):\n",
    "    #compute the percentage deviation of 2 numbers, taking the the first input as the reference\n",
    "    if(b>a):\n",
    "        return((b-a)/a*100)\n",
    "    else:\n",
    "          \n",
    "        return((a-b)/a*100)\n",
    "\n",
    "k=50\n",
    "p=1./k\n",
    "theoretical_mean = n*p\n",
    "theoretical_std_dv = (n*p*(1-p))**0.5\n",
    "\n",
    "seed, num_bins, n = 160, 50, 10**6\n",
    "sample= [randfloat() for i in range(n)]\n",
    "bin_heights=plt.hist(sample, k)[0]\n",
    "plt.close() #not to show the histogram plot\n",
    "empirical_mean=my_mean(bin_heights)\n",
    "empirical_std_dv=my_std_dv(bin_heights)\n",
    "percentage_deviation_mean=percentage_deviation(theoretical_mean, empirical_mean)\n",
    "percentage_deviation_std_dv=percentage_deviation(theoretical_std_dv, empirical_std_dv)\n",
    "\n",
    "print('theoretical mean {}; empirical mean {}; percentage difference {} %'.format(theoretical_mean, empirical_mean, percentage_deviation_mean))\n",
    "print('theoretical std dv {}; empirical std dv {}; percentage difference {} %'.format(theoretical_std_dv, empirical_std_dv, percentage_deviation_std_dv))\n",
    "print('Both the empirical mean and standard deviations are within  a 20 % error from the theoretical values')"
   ]
  },
  {
   "cell_type": "markdown",
   "id": "3ebaa078",
   "metadata": {},
   "source": [
    "\\textbf{Comments}:\n",
    "Reporting the experimental values without the percentage difference would be considered as incorrect/incomplete as the question clarifies that such a measure is needed. \n",
    "\n",
    "Note: Here we necessarily obtain a perfect match between empirical and theoretical distribution, right? If we had repeated the same experiment multiple times for a single bin we 'd have obtained a more realistic non-null error."
   ]
  },
  {
   "cell_type": "markdown",
   "id": "f614ea5a",
   "metadata": {},
   "source": [
    "# \\textbf{Question 7}"
   ]
  },
  {
   "cell_type": "markdown",
   "id": "01cbdfc1",
   "metadata": {},
   "source": [
    "\\textbf{Text}: \n",
    "For relatively large  $n$ the above-mentioned distribution becomes closely approximated by another type of distribution, why?. What is the name of this distribution and what are the expressions for its mean and standard deviation? "
   ]
  },
  {
   "cell_type": "markdown",
   "id": "5903d9ea",
   "metadata": {
    "ExecuteTime": {
     "end_time": "2021-10-27T12:59:21.483077Z",
     "start_time": "2021-10-27T12:59:21.478655Z"
    }
   },
   "source": [
    "\\textbf{Answer} "
   ]
  },
  {
   "cell_type": "markdown",
   "id": "b67ad48b",
   "metadata": {},
   "source": [
    "for large $n$ the Central Limit Theorem holds, meaning that in this case the Binomial $B(n, p)$ gets approximated by a Gaussian Distribution $\\mathcal{N}(\\mu, \\sigma)$, whose parameters are exactly the same as the binomial distribution: \n",
    "\n",
    "- $\\mu=n*p$\n",
    "\n",
    "- $\\sigma=\\sqrt{np(1-p)}$"
   ]
  },
  {
   "cell_type": "markdown",
   "id": "e70faaf2",
   "metadata": {},
   "source": [
    "\\textbf{Comments}: Again the most concise and precise answer is the best. No need to explain in details when the CLT applies and what its statement is "
   ]
  },
  {
   "cell_type": "markdown",
   "id": "ad6caeb2",
   "metadata": {},
   "source": [
    "# Question 8"
   ]
  },
  {
   "cell_type": "markdown",
   "id": "610e4957",
   "metadata": {},
   "source": [
    "\n",
    "Perform another test of (uniform) randomness of your own choosing, show and explain its result with either in one figure or a very small table (and caption), and conclude whether your RNG passes the test or not. You may either think of your own or look up one of the common tests. Common tests are integer generator tests, including the birthday test, periodicity least significant bit, spectral test, and many others. The test must be your own implementation, not 'off-the-shelf'."
   ]
  },
  {
   "cell_type": "markdown",
   "id": "06f321fb",
   "metadata": {
    "ExecuteTime": {
     "end_time": "2021-10-29T10:39:00.079241Z",
     "start_time": "2021-10-29T10:39:00.067989Z"
    }
   },
   "source": [
    "\\textbf{Answer} "
   ]
  },
  {
   "cell_type": "markdown",
   "id": "e3490072",
   "metadata": {},
   "source": [
    "Here we chose the bithday test, which consists in replicating the plot in the [link](https://en.wikipedia.org/wiki/Birthday_problem)"
   ]
  },
  {
   "cell_type": "code",
   "execution_count": 7,
   "id": "5d1dcc10",
   "metadata": {
    "ExecuteTime": {
     "end_time": "2021-11-01T11:19:56.769682Z",
     "start_time": "2021-11-01T11:19:56.765256Z"
    }
   },
   "outputs": [],
   "source": [
    "def random_birthday():\n",
    "    random_integer=randint()\n",
    "    return (int(random_integer*365/2**32)+1) #returns an integeer between 1 and 365"
   ]
  },
  {
   "cell_type": "code",
   "execution_count": 8,
   "id": "84ee59f8",
   "metadata": {
    "ExecuteTime": {
     "end_time": "2021-11-01T11:20:15.340267Z",
     "start_time": "2021-11-01T11:19:59.543578Z"
    }
   },
   "outputs": [
    {
     "data": {
      "image/png": "[encoded data removed]",
      "text/plain": [
       "<Figure size 576x576 with 1 Axes>"
      ]
     },
     "metadata": {
      "needs_background": "light"
     },
     "output_type": "display_data"
    }
   ],
   "source": [
    "num_simulations=500\n",
    "probs=[]\n",
    "for i in range(2,366): #loop over people\n",
    "    counter=0 # to keep track of successes\n",
    "    for n in range(num_simulations):\n",
    "        sample=[random_birthday() for j in range(i)]\n",
    "        #print(sample)\n",
    "        if(len(set(sample))<len(sample)): \n",
    "            counter+=1.\n",
    "    probs.append(counter/num_simulations) #probability=num_of_successes/num_of_trials\n",
    "\n",
    "\n",
    "plt.figure(figsize=(8,8))\n",
    "plt.plot(range(2,366), probs)\n",
    "plt.suptitle('Probability that there is at least a shared birthday in a random group of people', fontsize=15)\n",
    "plt.xlabel('Number of people', fontsize=15)\n",
    "plt.ylabel('Probability', fontsize=15)\n",
    "plt.show()"
   ]
  },
  {
   "cell_type": "code",
   "execution_count": null,
   "id": "9def6968",
   "metadata": {},
   "outputs": [],
   "source": []
  }
 ],
 "metadata": {
  "kernelspec": {
   "display_name": "Python (env1)",
   "language": "python",
   "name": "env1"
  },
  "language_info": {
   "codemirror_mode": {
    "name": "ipython",
    "version": 3
   },
   "file_extension": ".py",
   "mimetype": "text/x-python",
   "name": "python",
   "nbconvert_exporter": "python",
   "pygments_lexer": "ipython3",
   "version": "3.9.7"
  },
  "latex_envs": {
   "LaTeX_envs_menu_present": true,
   "autoclose": false,
   "autocomplete": true,
   "bibliofile": "biblio.bib",
   "cite_by": "apalike",
   "current_citInitial": 1,
   "eqLabelWithNumbers": true,
   "eqNumInitial": 1,
   "hotkeys": {
    "equation": "Ctrl-E",
    "itemize": "Ctrl-I"
   },
   "labels_anchors": false,
   "latex_user_defs": false,
   "report_style_numbering": false,
   "user_envs_cfg": false
  },
  "toc": {
   "base_numbering": 1,
   "nav_menu": {},
   "number_sections": true,
   "sideBar": true,
   "skip_h1_title": false,
   "title_cell": "Table of Contents",
   "title_sidebar": "Contents",
   "toc_cell": false,
   "toc_position": {},
   "toc_section_display": true,
   "toc_window_display": false
  }
 },
 "nbformat": 4,
 "nbformat_minor": 5
}
